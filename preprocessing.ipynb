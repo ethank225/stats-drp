{
 "cells": [
  {
   "cell_type": "code",
   "execution_count": 106,
   "metadata": {},
   "outputs": [],
   "source": [
    "import pandas as pd\n",
    "import numpy as np\n",
    "import itertools\n",
    "import matplotlib.pyplot as plt\n",
    "\n"
   ]
  },
  {
   "cell_type": "code",
   "execution_count": 6,
   "metadata": {},
   "outputs": [],
   "source": [
    "all_tracking = []\n",
    "for i in range(1,10):\n",
    "  week = pd.read_csv(\"nfl-big-data-bowl-2024/tracking_week_\" + str(i) + \".csv\")\n",
    "  all_tracking.append(week)\n",
    "\n",
    "all_tracking_df = pd.concat(all_tracking, ignore_index=True)  # Combine into one DataFrame\n"
   ]
  },
  {
   "cell_type": "code",
   "execution_count": 7,
   "metadata": {},
   "outputs": [],
   "source": [
    "players = pd.read_csv(\"nfl-big-data-bowl-2024/players.csv\")"
   ]
  },
  {
   "cell_type": "code",
   "execution_count": 8,
   "metadata": {},
   "outputs": [],
   "source": [
    "all_tracking_df = pd.merge(all_tracking_df, players, on = 'nflId')"
   ]
  },
  {
   "cell_type": "code",
   "execution_count": 9,
   "metadata": {},
   "outputs": [],
   "source": [
    "#group the data into smaller chunks\n",
    "#group by games, plays, and frame.\n",
    "\n",
    "#compute the distances between every pair of player for each frame\n",
    "#save this in a new csv filew for tracking_dist_week_X.csv\n",
    "\n",
    "distance_list = []\n",
    "frame_grouped = all_tracking_df.groupby(['gameId', 'playId', 'frameId'])\n",
    "\n",
    "for(game_id, play_id, frame_id), frame_df in frame_grouped:\n",
    "  players = frame_df[['nflId', 'x', 'y']].dropna()\n",
    "  for (id1, x1, y1), (id2, x2, y2) in itertools.combinations(players.values, 2):\n",
    "    distance = np.sqrt((x2-x1) **2 + (y2-y1) **2)\n",
    "\n",
    "    distance_list.append({\n",
    "      \"gameId\": game_id,\n",
    "      \"playId\": frame_id,\n",
    "      \"frameId\": frame_id,\n",
    "      \"player1\": id1,\n",
    "      \"player2\": id2,\n",
    "      \"distance\": distance\n",
    "    })\n",
    "\n",
    "distances_df = pd.DataFrame(distance_list)\n"
   ]
  },
  {
   "cell_type": "code",
   "execution_count": 10,
   "metadata": {},
   "outputs": [],
   "source": [
    "def flip_coordinates(row):\n",
    "  if(row['playDirection'] == \"left\"):\n",
    "    row['x'] = 120 - row['x']\n",
    "    row['y'] = 53.3 - row['y']\n",
    "    row['o'] = (row['o'] + 180) % 360  # Rotate by 180 degrees\n",
    "    row['dir'] = (row['dir'] + 180) % 360  # Rotate by 180 degrees\n",
    "\n",
    "\n",
    "  return row\n",
    "\n",
    "\n",
    "all_tracking_df = all_tracking_df.apply(flip_coordinates, axis = 1)"
   ]
  },
  {
   "cell_type": "code",
   "execution_count": 11,
   "metadata": {},
   "outputs": [],
   "source": [
    "tackles = pd.read_csv(\"nfl-big-data-bowl-2024/tackles.csv\")"
   ]
  },
  {
   "cell_type": "code",
   "execution_count": 12,
   "metadata": {},
   "outputs": [],
   "source": [
    "all_tracking_tackles = pd.merge(\n",
    "    all_tracking_df,\n",
    "    tackles,\n",
    "    on=['gameId', 'playId', 'nflId'],\n",
    "    how='left'  # Keep all rows from all_tracking_df, add tackle data if available\n",
    ")\n",
    "\n",
    "# Replace NaN values with 0 in the merged columns\n",
    "all_tracking_tackles.fillna(0, inplace=True)\n"
   ]
  },
  {
   "cell_type": "code",
   "execution_count": 13,
   "metadata": {},
   "outputs": [],
   "source": [
    "plays = pd.read_csv(\"nfl-big-data-bowl-2024/plays.csv\")"
   ]
  },
  {
   "cell_type": "code",
   "execution_count": 25,
   "metadata": {},
   "outputs": [],
   "source": [
    "all_tracking_tackles_play = pd.merge(all_tracking_tackles,\n",
    "                                     plays,\n",
    "                                     on = ['gameId', 'playId'],\n",
    "                                     how = \"left\")"
   ]
  },
  {
   "cell_type": "code",
   "execution_count": 26,
   "metadata": {},
   "outputs": [],
   "source": [
    "all_tracking_tackles_play['is_offense'] = all_tracking_tackles_play['club'] == all_tracking_tackles_play['possessionTeam']\n",
    "all_tracking_tackles_play['is_defense'] = all_tracking_tackles_play['club'] == all_tracking_tackles_play['defensiveTeam']"
   ]
  },
  {
   "cell_type": "code",
   "execution_count": 27,
   "metadata": {},
   "outputs": [
    {
     "data": {
      "text/plain": [
       "Index(['gameId', 'playId', 'nflId', 'displayName_x', 'frameId', 'time',\n",
       "       'jerseyNumber', 'club', 'playDirection', 'x', 'y', 's', 'a', 'dis', 'o',\n",
       "       'dir', 'event', 'height', 'weight', 'birthDate', 'collegeName',\n",
       "       'position', 'displayName_y', 'tackle', 'assist', 'forcedFumble',\n",
       "       'pff_missedTackle', 'ballCarrierId', 'ballCarrierDisplayName',\n",
       "       'playDescription', 'quarter', 'down', 'yardsToGo', 'possessionTeam',\n",
       "       'defensiveTeam', 'yardlineSide', 'yardlineNumber', 'gameClock',\n",
       "       'preSnapHomeScore', 'preSnapVisitorScore', 'passResult', 'passLength',\n",
       "       'penaltyYards', 'prePenaltyPlayResult', 'playResult',\n",
       "       'playNullifiedByPenalty', 'absoluteYardlineNumber', 'offenseFormation',\n",
       "       'defendersInTheBox', 'passProbability', 'preSnapHomeTeamWinProbability',\n",
       "       'preSnapVisitorTeamWinProbability', 'homeTeamWinProbabilityAdded',\n",
       "       'visitorTeamWinProbilityAdded', 'expectedPoints', 'expectedPointsAdded',\n",
       "       'foulName1', 'foulName2', 'foulNFLId1', 'foulNFLId2', 'is_offense',\n",
       "       'is_defense'],\n",
       "      dtype='object')"
      ]
     },
     "execution_count": 27,
     "metadata": {},
     "output_type": "execute_result"
    }
   ],
   "source": [
    "all_tracking_tackles_play.columns"
   ]
  },
  {
   "cell_type": "code",
   "execution_count": 28,
   "metadata": {},
   "outputs": [
    {
     "name": "stderr",
     "output_type": "stream",
     "text": [
      "/var/folders/98/0nc594rd7cq2v8bj1t1x697m0000gn/T/ipykernel_72597/2975878056.py:4: DeprecationWarning: DataFrameGroupBy.apply operated on the grouping columns. This behavior is deprecated, and in a future version of pandas the grouping columns will be excluded from the operation. Either pass `include_groups=False` to exclude the groupings or explicitly select the grouping columns after groupby to silence this warning.\n",
      "  ball_carrier_positions = all_tracking_tackles_play.groupby(['gameId', 'playId', 'frameId']).apply(\n"
     ]
    }
   ],
   "source": [
    "import numpy as np\n",
    "\n",
    "# Step 1: Compute Ball Carrier's Attributes for Each Frame\n",
    "ball_carrier_positions = all_tracking_tackles_play.groupby(['gameId', 'playId', 'frameId']).apply(\n",
    "    lambda df: df.loc[df['nflId'] == df['ballCarrierId'], ['x', 'y', 's', 'dir', 'o', 'a', 'height', 'weight']]\n",
    ").reset_index()\n",
    "\n",
    "# Rename columns with \"ball_carrier\" prefix for clarity\n",
    "ball_carrier_positions = ball_carrier_positions.rename(\n",
    "    columns={\n",
    "        'x': 'ball_carrier_x',\n",
    "        'y': 'ball_carrier_y',\n",
    "        's': 'ball_carrier_speed',\n",
    "        'dir': 'ball_carrier_dir',\n",
    "        'o': 'ball_carrier_orientation',\n",
    "        'a': 'ball_carrier_acceleration',\n",
    "        'height': 'ball_carrier_height',\n",
    "        'weight': 'ball_carrier_weight'\n",
    "    }\n",
    ")\n",
    "\n",
    "# Step 2: Merge Ball Carrier Attributes Back Into the Main DataFrame\n",
    "all_tracking_tackles_play = all_tracking_tackles_play.merge(\n",
    "    ball_carrier_positions[['gameId', 'playId', 'frameId',\n",
    "                            'ball_carrier_x', 'ball_carrier_y',\n",
    "                            'ball_carrier_speed', 'ball_carrier_dir',\n",
    "                            'ball_carrier_orientation', 'ball_carrier_acceleration',\n",
    "                            'ball_carrier_height', 'ball_carrier_weight']],\n",
    "    on=['gameId', 'playId', 'frameId'],\n",
    "    how='left'\n",
    ")"
   ]
  },
  {
   "cell_type": "code",
   "execution_count": 29,
   "metadata": {},
   "outputs": [],
   "source": [
    "#Checkpoint 1 Save the data\n",
    "all_tracking_tackles_play.to_csv(\"all_tracking_tackles_play.csv\")"
   ]
  },
  {
   "cell_type": "code",
   "execution_count": 53,
   "metadata": {},
   "outputs": [
    {
     "name": "stderr",
     "output_type": "stream",
     "text": [
      "/var/folders/98/0nc594rd7cq2v8bj1t1x697m0000gn/T/ipykernel_81824/2425550641.py:2: DtypeWarning: Columns (20,41,57,58) have mixed types. Specify dtype option on import or set low_memory=False.\n",
      "  all_tracking_tackles_play = pd.read_csv(\"all_tracking_tackles_play.csv\")\n"
     ]
    }
   ],
   "source": [
    "#Check Point 1 Continue\n",
    "all_tracking_tackles_play = pd.read_csv(\"all_tracking_tackles_play.csv\")"
   ]
  },
  {
   "cell_type": "code",
   "execution_count": 54,
   "metadata": {},
   "outputs": [],
   "source": [
    "all_tracking_tackles_play['distance_to_ball_carrier'] = np.where(\n",
    "    all_tracking_tackles_play['is_defense'],\n",
    "    np.sqrt(\n",
    "        (all_tracking_tackles_play['x'] - all_tracking_tackles_play['ball_carrier_x'])**2 +\n",
    "        (all_tracking_tackles_play['y'] - all_tracking_tackles_play['ball_carrier_y'])**2\n",
    "    ),\n",
    "    0  # Set to 0 for offensive players\n",
    ")\n"
   ]
  },
  {
   "cell_type": "code",
   "execution_count": 55,
   "metadata": {},
   "outputs": [],
   "source": [
    "columns_to_keep = [\n",
    "    'gameId', 'playId', 'frameId', 'nflId', 'displayName_x', 'x', 'y', 's', 'a', 'o', 'dir',\n",
    "    'ballCarrierId', 'height', 'weight', 'ballCarrierDisplayName', 'ball_carrier_x', 'ball_carrier_y',\n",
    "    'ball_carrier_speed', 'ball_carrier_acceleration', 'ball_carrier_dir', 'ball_carrier_orientation',\n",
    "    'ball_carrier_height', 'ball_carrier_weight',\n",
    "    'distance_to_ball_carrier', 'is_offense', 'is_defense', 'tackle', 'assist', 'pff_missedTackle',\n",
    "    'event', 'position'\n",
    "]\n",
    "\n",
    "# Keep only the relevant columns\n",
    "all_tracking_tackles_play_filtered = all_tracking_tackles_play[columns_to_keep]"
   ]
  },
  {
   "cell_type": "code",
   "execution_count": 56,
   "metadata": {},
   "outputs": [
    {
     "name": "stderr",
     "output_type": "stream",
     "text": [
      "/var/folders/98/0nc594rd7cq2v8bj1t1x697m0000gn/T/ipykernel_81824/2509236417.py:67: DeprecationWarning: DataFrameGroupBy.apply operated on the grouping columns. This behavior is deprecated, and in a future version of pandas the grouping columns will be excluded from the operation. Either pass `include_groups=False` to exclude the groupings or explicitly select the grouping columns after groupby to silence this warning.\n",
      "  .apply(process_frame)\n"
     ]
    },
    {
     "name": "stdout",
     "output_type": "stream",
     "text": [
      "       gameId  playId  frameId    nflId   displayName_x      x      y     s  \\\n",
      "0  2022090800      56        1  35472.0  Rodger Saffold  31.63  26.03  1.62   \n",
      "1  2022090800      56        2  35472.0  Rodger Saffold  31.53  26.17  1.67   \n",
      "2  2022090800      56        3  35472.0  Rodger Saffold  31.44  26.29  1.57   \n",
      "3  2022090800      56        4  35472.0  Rodger Saffold  31.36  26.40  1.44   \n",
      "4  2022090800      56        5  35472.0  Rodger Saffold  31.28  26.50  1.29   \n",
      "\n",
      "      a      o  ...  distance_to_ball_carrier  is_offense is_defense  tackle  \\\n",
      "0  1.15  51.74  ...                       0.0        True      False     0.0   \n",
      "1  0.61  50.98  ...                       0.0        True      False     0.0   \n",
      "2  0.49  50.98  ...                       0.0        True      False     0.0   \n",
      "3  0.89  52.38  ...                       0.0        True      False     0.0   \n",
      "4  1.24  53.36  ...                       0.0        True      False     0.0   \n",
      "\n",
      "  assist  pff_missedTackle         event  position  defender_influence  \\\n",
      "0    0.0               0.0             0         G                 NaN   \n",
      "1    0.0               0.0  pass_arrived         G                 NaN   \n",
      "2    0.0               0.0             0         G                 NaN   \n",
      "3    0.0               0.0             0         G                 NaN   \n",
      "4    0.0               0.0             0         G                 NaN   \n",
      "\n",
      "   blocker_influence  \n",
      "0                NaN  \n",
      "1                NaN  \n",
      "2                NaN  \n",
      "3                NaN  \n",
      "4                NaN  \n",
      "\n",
      "[5 rows x 33 columns]\n"
     ]
    }
   ],
   "source": [
    "import pandas as pd\n",
    "import numpy as np\n",
    "\n",
    "# Function to compute Euclidean distances efficiently\n",
    "def compute_defender_influence(ball_carrier_pos, defender_positions, defender_velocities):\n",
    "    if not defender_positions:\n",
    "        return {}\n",
    "    defenders = np.array(defender_positions)\n",
    "    velocities = np.array(defender_velocities).flatten()\n",
    "\n",
    "    # Compute distances using numpy broadcasting\n",
    "    distances = np.linalg.norm(defenders - np.array(ball_carrier_pos), axis=1)\n",
    "\n",
    "    # Influence calculation (example: inverse distance weighted by velocity)\n",
    "    influences = velocities / (distances + 1e-6)  # Avoid divide by zero\n",
    "    return dict(zip(map(tuple, defenders), influences))\n",
    "\n",
    "def compute_blocker_influence(defender_positions, blocker_positions, sigma = 5):\n",
    "    if not blocker_positions:\n",
    "        return {}\n",
    "    defenders = np.array(defender_positions)\n",
    "    blockers = np.array(blocker_positions)\n",
    "\n",
    "    # Compute distances between each defender and all blockers\n",
    "    dists = np.linalg.norm(defenders[:, None] - blockers, axis=2)\n",
    "    blocker_influences = np.exp(-dists / sigma)  # Get closest blocker to each defender\n",
    "\n",
    "    total_blocker_influence = np.sum(blocker_influences, axis=1)\n",
    "\n",
    "    return dict(zip(map(tuple, defenders), total_blocker_influence))\n",
    "\n",
    "# Grouped processing with correct playerId assignment\n",
    "def process_frame(frame_data):\n",
    "    ball_carrier = frame_data.loc[frame_data['nflId'] == frame_data['ballCarrierId'], ['x', 'y']]\n",
    "    if ball_carrier.empty:\n",
    "        return None  # Skip if no ball carrier\n",
    "\n",
    "    ball_carrier_pos = ball_carrier.values[0]\n",
    "\n",
    "    defense = frame_data[frame_data['is_defense']]\n",
    "    offensive_players = frame_data[(frame_data['is_offense']) & (frame_data['nflId'] != frame_data['ballCarrierId'])]\n",
    "\n",
    "    defender_positions = list(zip(defense['x'], defense['y']))\n",
    "    defender_nfl_ids = list(defense['nflId'])  # Store correct player IDs\n",
    "    defender_velocities = defense['s'].values.reshape(-1, 1)\n",
    "    blocker_positions = list(zip(offensive_players['x'], offensive_players['y']))\n",
    "\n",
    "    defender_influences = compute_defender_influence(ball_carrier_pos, defender_positions, defender_velocities)\n",
    "    blocker_influences = compute_blocker_influence(defender_positions, blocker_positions)\n",
    "\n",
    "    # Map (x, y) positions back to correct player IDs\n",
    "    position_to_nfl_id = dict(zip(defender_positions, defender_nfl_ids))\n",
    "\n",
    "    return pd.DataFrame({\n",
    "        'gameId': frame_data['gameId'].iloc[0],\n",
    "        'playId': frame_data['playId'].iloc[0],\n",
    "        'frameId': frame_data['frameId'].iloc[0],\n",
    "        'nflId': [position_to_nfl_id[d] for d in defender_influences.keys()],  # Correct player IDs\n",
    "        'defender_influence': list(defender_influences.values()),\n",
    "        'blocker_influence': [blocker_influences.get(d, 0) for d in defender_influences.keys()]\n",
    "    })\n",
    "\n",
    "# Process data using groupby and apply\n",
    "tackle_features_df = (\n",
    "    all_tracking_tackles_play_filtered\n",
    "    .groupby(['gameId', 'playId', 'frameId'])\n",
    "    .apply(process_frame)\n",
    "    .reset_index(drop=True)  # Drop extra index\n",
    ")\n",
    "\n",
    "# Merge computed features back into the original dataset\n",
    "all_tracking_tackles_play_filtered = all_tracking_tackles_play_filtered.merge(\n",
    "    tackle_features_df,\n",
    "    on=['gameId', 'playId', 'frameId', 'nflId'],\n",
    "    how='left'\n",
    ")\n",
    "\n",
    "# Print a sample\n",
    "print(all_tracking_tackles_play_filtered.head())\n"
   ]
  },
  {
   "cell_type": "code",
   "execution_count": 57,
   "metadata": {},
   "outputs": [],
   "source": [
    "#Checkpoint 2 Save the data\n",
    "all_tracking_tackles_play_filtered.to_csv(\"all_tracking_tackles_play_filtered.csv\")"
   ]
  },
  {
   "cell_type": "code",
   "execution_count": 92,
   "metadata": {},
   "outputs": [],
   "source": [
    "#Check Point 2 Continue\n",
    "all_tracking_tackles_play_filtered = pd.read_csv(\"all_tracking_tackles_play_filtered.csv\")"
   ]
  },
  {
   "cell_type": "code",
   "execution_count": 93,
   "metadata": {},
   "outputs": [
    {
     "data": {
      "text/html": [
       "<div>\n",
       "<style scoped>\n",
       "    .dataframe tbody tr th:only-of-type {\n",
       "        vertical-align: middle;\n",
       "    }\n",
       "\n",
       "    .dataframe tbody tr th {\n",
       "        vertical-align: top;\n",
       "    }\n",
       "\n",
       "    .dataframe thead th {\n",
       "        text-align: right;\n",
       "    }\n",
       "</style>\n",
       "<table border=\"1\" class=\"dataframe\">\n",
       "  <thead>\n",
       "    <tr style=\"text-align: right;\">\n",
       "      <th></th>\n",
       "      <th>Unnamed: 0</th>\n",
       "      <th>gameId</th>\n",
       "      <th>playId</th>\n",
       "      <th>frameId</th>\n",
       "      <th>nflId</th>\n",
       "      <th>displayName_x</th>\n",
       "      <th>x</th>\n",
       "      <th>y</th>\n",
       "      <th>s</th>\n",
       "      <th>a</th>\n",
       "      <th>...</th>\n",
       "      <th>distance_to_ball_carrier</th>\n",
       "      <th>is_offense</th>\n",
       "      <th>is_defense</th>\n",
       "      <th>tackle</th>\n",
       "      <th>assist</th>\n",
       "      <th>pff_missedTackle</th>\n",
       "      <th>event</th>\n",
       "      <th>position</th>\n",
       "      <th>defender_influence</th>\n",
       "      <th>blocker_influence</th>\n",
       "    </tr>\n",
       "  </thead>\n",
       "  <tbody>\n",
       "    <tr>\n",
       "      <th>22</th>\n",
       "      <td>22</td>\n",
       "      <td>2022090800</td>\n",
       "      <td>56</td>\n",
       "      <td>1</td>\n",
       "      <td>38577.0</td>\n",
       "      <td>Bobby Wagner</td>\n",
       "      <td>41.75</td>\n",
       "      <td>25.77</td>\n",
       "      <td>1.24</td>\n",
       "      <td>3.81</td>\n",
       "      <td>...</td>\n",
       "      <td>11.013632</td>\n",
       "      <td>False</td>\n",
       "      <td>True</td>\n",
       "      <td>0.0</td>\n",
       "      <td>0.0</td>\n",
       "      <td>0.0</td>\n",
       "      <td>0</td>\n",
       "      <td>ILB</td>\n",
       "      <td>0.112588</td>\n",
       "      <td>1.254574</td>\n",
       "    </tr>\n",
       "    <tr>\n",
       "      <th>23</th>\n",
       "      <td>23</td>\n",
       "      <td>2022090800</td>\n",
       "      <td>56</td>\n",
       "      <td>2</td>\n",
       "      <td>38577.0</td>\n",
       "      <td>Bobby Wagner</td>\n",
       "      <td>41.80</td>\n",
       "      <td>25.61</td>\n",
       "      <td>1.78</td>\n",
       "      <td>4.43</td>\n",
       "      <td>...</td>\n",
       "      <td>10.246878</td>\n",
       "      <td>False</td>\n",
       "      <td>True</td>\n",
       "      <td>0.0</td>\n",
       "      <td>0.0</td>\n",
       "      <td>0.0</td>\n",
       "      <td>pass_arrived</td>\n",
       "      <td>ILB</td>\n",
       "      <td>0.173711</td>\n",
       "      <td>1.260834</td>\n",
       "    </tr>\n",
       "    <tr>\n",
       "      <th>24</th>\n",
       "      <td>24</td>\n",
       "      <td>2022090800</td>\n",
       "      <td>56</td>\n",
       "      <td>3</td>\n",
       "      <td>38577.0</td>\n",
       "      <td>Bobby Wagner</td>\n",
       "      <td>41.84</td>\n",
       "      <td>25.42</td>\n",
       "      <td>2.21</td>\n",
       "      <td>4.20</td>\n",
       "      <td>...</td>\n",
       "      <td>9.464486</td>\n",
       "      <td>False</td>\n",
       "      <td>True</td>\n",
       "      <td>0.0</td>\n",
       "      <td>0.0</td>\n",
       "      <td>0.0</td>\n",
       "      <td>0</td>\n",
       "      <td>ILB</td>\n",
       "      <td>0.233504</td>\n",
       "      <td>1.270333</td>\n",
       "    </tr>\n",
       "    <tr>\n",
       "      <th>25</th>\n",
       "      <td>25</td>\n",
       "      <td>2022090800</td>\n",
       "      <td>56</td>\n",
       "      <td>4</td>\n",
       "      <td>38577.0</td>\n",
       "      <td>Bobby Wagner</td>\n",
       "      <td>41.86</td>\n",
       "      <td>25.17</td>\n",
       "      <td>2.70</td>\n",
       "      <td>3.87</td>\n",
       "      <td>...</td>\n",
       "      <td>8.646531</td>\n",
       "      <td>False</td>\n",
       "      <td>True</td>\n",
       "      <td>0.0</td>\n",
       "      <td>0.0</td>\n",
       "      <td>0.0</td>\n",
       "      <td>0</td>\n",
       "      <td>ILB</td>\n",
       "      <td>0.312264</td>\n",
       "      <td>1.284189</td>\n",
       "    </tr>\n",
       "    <tr>\n",
       "      <th>26</th>\n",
       "      <td>26</td>\n",
       "      <td>2022090800</td>\n",
       "      <td>56</td>\n",
       "      <td>5</td>\n",
       "      <td>38577.0</td>\n",
       "      <td>Bobby Wagner</td>\n",
       "      <td>41.88</td>\n",
       "      <td>24.88</td>\n",
       "      <td>3.05</td>\n",
       "      <td>3.19</td>\n",
       "      <td>...</td>\n",
       "      <td>7.812074</td>\n",
       "      <td>False</td>\n",
       "      <td>True</td>\n",
       "      <td>0.0</td>\n",
       "      <td>0.0</td>\n",
       "      <td>0.0</td>\n",
       "      <td>0</td>\n",
       "      <td>ILB</td>\n",
       "      <td>0.390421</td>\n",
       "      <td>1.289473</td>\n",
       "    </tr>\n",
       "    <tr>\n",
       "      <th>...</th>\n",
       "      <td>...</td>\n",
       "      <td>...</td>\n",
       "      <td>...</td>\n",
       "      <td>...</td>\n",
       "      <td>...</td>\n",
       "      <td>...</td>\n",
       "      <td>...</td>\n",
       "      <td>...</td>\n",
       "      <td>...</td>\n",
       "      <td>...</td>\n",
       "      <td>...</td>\n",
       "      <td>...</td>\n",
       "      <td>...</td>\n",
       "      <td>...</td>\n",
       "      <td>...</td>\n",
       "      <td>...</td>\n",
       "      <td>...</td>\n",
       "      <td>...</td>\n",
       "      <td>...</td>\n",
       "      <td>...</td>\n",
       "      <td>...</td>\n",
       "    </tr>\n",
       "    <tr>\n",
       "      <th>11657289</th>\n",
       "      <td>11657289</td>\n",
       "      <td>2022110700</td>\n",
       "      <td>3787</td>\n",
       "      <td>40</td>\n",
       "      <td>54606.0</td>\n",
       "      <td>Damarion Williams</td>\n",
       "      <td>33.45</td>\n",
       "      <td>29.73</td>\n",
       "      <td>1.92</td>\n",
       "      <td>2.40</td>\n",
       "      <td>...</td>\n",
       "      <td>12.336296</td>\n",
       "      <td>False</td>\n",
       "      <td>True</td>\n",
       "      <td>0.0</td>\n",
       "      <td>0.0</td>\n",
       "      <td>0.0</td>\n",
       "      <td>tackle</td>\n",
       "      <td>CB</td>\n",
       "      <td>0.155638</td>\n",
       "      <td>1.338559</td>\n",
       "    </tr>\n",
       "    <tr>\n",
       "      <th>11657290</th>\n",
       "      <td>11657290</td>\n",
       "      <td>2022110700</td>\n",
       "      <td>3787</td>\n",
       "      <td>41</td>\n",
       "      <td>54606.0</td>\n",
       "      <td>Damarion Williams</td>\n",
       "      <td>33.42</td>\n",
       "      <td>29.57</td>\n",
       "      <td>1.53</td>\n",
       "      <td>2.65</td>\n",
       "      <td>...</td>\n",
       "      <td>12.179265</td>\n",
       "      <td>False</td>\n",
       "      <td>True</td>\n",
       "      <td>0.0</td>\n",
       "      <td>0.0</td>\n",
       "      <td>0.0</td>\n",
       "      <td>0</td>\n",
       "      <td>CB</td>\n",
       "      <td>0.125623</td>\n",
       "      <td>1.403811</td>\n",
       "    </tr>\n",
       "    <tr>\n",
       "      <th>11657291</th>\n",
       "      <td>11657291</td>\n",
       "      <td>2022110700</td>\n",
       "      <td>3787</td>\n",
       "      <td>42</td>\n",
       "      <td>54606.0</td>\n",
       "      <td>Damarion Williams</td>\n",
       "      <td>33.39</td>\n",
       "      <td>29.43</td>\n",
       "      <td>1.28</td>\n",
       "      <td>2.51</td>\n",
       "      <td>...</td>\n",
       "      <td>12.045588</td>\n",
       "      <td>False</td>\n",
       "      <td>True</td>\n",
       "      <td>0.0</td>\n",
       "      <td>0.0</td>\n",
       "      <td>0.0</td>\n",
       "      <td>0</td>\n",
       "      <td>CB</td>\n",
       "      <td>0.106263</td>\n",
       "      <td>1.467758</td>\n",
       "    </tr>\n",
       "    <tr>\n",
       "      <th>11657292</th>\n",
       "      <td>11657292</td>\n",
       "      <td>2022110700</td>\n",
       "      <td>3787</td>\n",
       "      <td>43</td>\n",
       "      <td>54606.0</td>\n",
       "      <td>Damarion Williams</td>\n",
       "      <td>33.38</td>\n",
       "      <td>29.31</td>\n",
       "      <td>1.07</td>\n",
       "      <td>2.24</td>\n",
       "      <td>...</td>\n",
       "      <td>11.963047</td>\n",
       "      <td>False</td>\n",
       "      <td>True</td>\n",
       "      <td>0.0</td>\n",
       "      <td>0.0</td>\n",
       "      <td>0.0</td>\n",
       "      <td>0</td>\n",
       "      <td>CB</td>\n",
       "      <td>0.089442</td>\n",
       "      <td>1.525725</td>\n",
       "    </tr>\n",
       "    <tr>\n",
       "      <th>11657293</th>\n",
       "      <td>11657293</td>\n",
       "      <td>2022110700</td>\n",
       "      <td>3787</td>\n",
       "      <td>44</td>\n",
       "      <td>54606.0</td>\n",
       "      <td>Damarion Williams</td>\n",
       "      <td>33.38</td>\n",
       "      <td>29.21</td>\n",
       "      <td>0.90</td>\n",
       "      <td>1.93</td>\n",
       "      <td>...</td>\n",
       "      <td>11.895819</td>\n",
       "      <td>False</td>\n",
       "      <td>True</td>\n",
       "      <td>0.0</td>\n",
       "      <td>0.0</td>\n",
       "      <td>0.0</td>\n",
       "      <td>0</td>\n",
       "      <td>CB</td>\n",
       "      <td>0.075657</td>\n",
       "      <td>1.580593</td>\n",
       "    </tr>\n",
       "  </tbody>\n",
       "</table>\n",
       "<p>5828669 rows × 34 columns</p>\n",
       "</div>"
      ],
      "text/plain": [
       "          Unnamed: 0      gameId  playId  frameId    nflId      displayName_x  \\\n",
       "22                22  2022090800      56        1  38577.0       Bobby Wagner   \n",
       "23                23  2022090800      56        2  38577.0       Bobby Wagner   \n",
       "24                24  2022090800      56        3  38577.0       Bobby Wagner   \n",
       "25                25  2022090800      56        4  38577.0       Bobby Wagner   \n",
       "26                26  2022090800      56        5  38577.0       Bobby Wagner   \n",
       "...              ...         ...     ...      ...      ...                ...   \n",
       "11657289    11657289  2022110700    3787       40  54606.0  Damarion Williams   \n",
       "11657290    11657290  2022110700    3787       41  54606.0  Damarion Williams   \n",
       "11657291    11657291  2022110700    3787       42  54606.0  Damarion Williams   \n",
       "11657292    11657292  2022110700    3787       43  54606.0  Damarion Williams   \n",
       "11657293    11657293  2022110700    3787       44  54606.0  Damarion Williams   \n",
       "\n",
       "              x      y     s     a  ...  distance_to_ball_carrier  is_offense  \\\n",
       "22        41.75  25.77  1.24  3.81  ...                 11.013632       False   \n",
       "23        41.80  25.61  1.78  4.43  ...                 10.246878       False   \n",
       "24        41.84  25.42  2.21  4.20  ...                  9.464486       False   \n",
       "25        41.86  25.17  2.70  3.87  ...                  8.646531       False   \n",
       "26        41.88  24.88  3.05  3.19  ...                  7.812074       False   \n",
       "...         ...    ...   ...   ...  ...                       ...         ...   \n",
       "11657289  33.45  29.73  1.92  2.40  ...                 12.336296       False   \n",
       "11657290  33.42  29.57  1.53  2.65  ...                 12.179265       False   \n",
       "11657291  33.39  29.43  1.28  2.51  ...                 12.045588       False   \n",
       "11657292  33.38  29.31  1.07  2.24  ...                 11.963047       False   \n",
       "11657293  33.38  29.21  0.90  1.93  ...                 11.895819       False   \n",
       "\n",
       "          is_defense tackle  assist pff_missedTackle         event  position  \\\n",
       "22              True    0.0     0.0              0.0             0       ILB   \n",
       "23              True    0.0     0.0              0.0  pass_arrived       ILB   \n",
       "24              True    0.0     0.0              0.0             0       ILB   \n",
       "25              True    0.0     0.0              0.0             0       ILB   \n",
       "26              True    0.0     0.0              0.0             0       ILB   \n",
       "...              ...    ...     ...              ...           ...       ...   \n",
       "11657289        True    0.0     0.0              0.0        tackle        CB   \n",
       "11657290        True    0.0     0.0              0.0             0        CB   \n",
       "11657291        True    0.0     0.0              0.0             0        CB   \n",
       "11657292        True    0.0     0.0              0.0             0        CB   \n",
       "11657293        True    0.0     0.0              0.0             0        CB   \n",
       "\n",
       "          defender_influence  blocker_influence  \n",
       "22                  0.112588           1.254574  \n",
       "23                  0.173711           1.260834  \n",
       "24                  0.233504           1.270333  \n",
       "25                  0.312264           1.284189  \n",
       "26                  0.390421           1.289473  \n",
       "...                      ...                ...  \n",
       "11657289            0.155638           1.338559  \n",
       "11657290            0.125623           1.403811  \n",
       "11657291            0.106263           1.467758  \n",
       "11657292            0.089442           1.525725  \n",
       "11657293            0.075657           1.580593  \n",
       "\n",
       "[5828669 rows x 34 columns]"
      ]
     },
     "execution_count": 93,
     "metadata": {},
     "output_type": "execute_result"
    }
   ],
   "source": [
    "all_tracking_tackles_play_defense = all_tracking_tackles_play_filtered[all_tracking_tackles_play_filtered['is_defense']]\n",
    "all_tracking_tackles_play_defense"
   ]
  },
  {
   "cell_type": "code",
   "execution_count": 94,
   "metadata": {},
   "outputs": [
    {
     "data": {
      "text/plain": [
       "Index(['Unnamed: 0', 'gameId', 'playId', 'frameId', 'nflId', 'displayName_x',\n",
       "       'x', 'y', 's', 'a', 'o', 'dir', 'ballCarrierId', 'height', 'weight',\n",
       "       'ballCarrierDisplayName', 'ball_carrier_x', 'ball_carrier_y',\n",
       "       'ball_carrier_speed', 'ball_carrier_acceleration', 'ball_carrier_dir',\n",
       "       'ball_carrier_orientation', 'ball_carrier_height',\n",
       "       'ball_carrier_weight', 'distance_to_ball_carrier', 'is_offense',\n",
       "       'is_defense', 'tackle', 'assist', 'pff_missedTackle', 'event',\n",
       "       'position', 'defender_influence', 'blocker_influence'],\n",
       "      dtype='object')"
      ]
     },
     "execution_count": 94,
     "metadata": {},
     "output_type": "execute_result"
    }
   ],
   "source": [
    "all_tracking_tackles_play_defense.columns"
   ]
  },
  {
   "cell_type": "code",
   "execution_count": 95,
   "metadata": {},
   "outputs": [
    {
     "name": "stderr",
     "output_type": "stream",
     "text": [
      "/var/folders/98/0nc594rd7cq2v8bj1t1x697m0000gn/T/ipykernel_81824/1790345297.py:8: SettingWithCopyWarning: \n",
      "A value is trying to be set on a copy of a slice from a DataFrame.\n",
      "Try using .loc[row_indexer,col_indexer] = value instead\n",
      "\n",
      "See the caveats in the documentation: https://pandas.pydata.org/pandas-docs/stable/user_guide/indexing.html#returning-a-view-versus-a-copy\n",
      "  all_tracking_tackles_play_defense['height'] = all_tracking_tackles_play_defense['height'].astype(str).apply(convert_height_to_inches)\n",
      "/var/folders/98/0nc594rd7cq2v8bj1t1x697m0000gn/T/ipykernel_81824/1790345297.py:9: SettingWithCopyWarning: \n",
      "A value is trying to be set on a copy of a slice from a DataFrame.\n",
      "Try using .loc[row_indexer,col_indexer] = value instead\n",
      "\n",
      "See the caveats in the documentation: https://pandas.pydata.org/pandas-docs/stable/user_guide/indexing.html#returning-a-view-versus-a-copy\n",
      "  all_tracking_tackles_play_defense['ball_carrier_height'] = all_tracking_tackles_play_defense['ball_carrier_height'].astype(str).apply(convert_height_to_inches)\n"
     ]
    }
   ],
   "source": [
    "def convert_height_to_inches(height):\n",
    "    try:\n",
    "        feet, inches = height.split('-')\n",
    "        return int(feet) * 12 + int(inches)\n",
    "    except:\n",
    "        return None  # Return None if height is missing or malformed\n",
    "\n",
    "all_tracking_tackles_play_defense['height'] = all_tracking_tackles_play_defense['height'].astype(str).apply(convert_height_to_inches)\n",
    "all_tracking_tackles_play_defense['ball_carrier_height'] = all_tracking_tackles_play_defense['ball_carrier_height'].astype(str).apply(convert_height_to_inches)\n"
   ]
  },
  {
   "cell_type": "code",
   "execution_count": 96,
   "metadata": {},
   "outputs": [
    {
     "name": "stderr",
     "output_type": "stream",
     "text": [
      "/var/folders/98/0nc594rd7cq2v8bj1t1x697m0000gn/T/ipykernel_81824/1490409540.py:1: SettingWithCopyWarning: \n",
      "A value is trying to be set on a copy of a slice from a DataFrame.\n",
      "Try using .loc[row_indexer,col_indexer] = value instead\n",
      "\n",
      "See the caveats in the documentation: https://pandas.pydata.org/pandas-docs/stable/user_guide/indexing.html#returning-a-view-versus-a-copy\n",
      "  all_tracking_tackles_play_defense['weight_diff'] = all_tracking_tackles_play_defense['weight'] - all_tracking_tackles_play_defense['ball_carrier_weight']\n",
      "/var/folders/98/0nc594rd7cq2v8bj1t1x697m0000gn/T/ipykernel_81824/1490409540.py:2: SettingWithCopyWarning: \n",
      "A value is trying to be set on a copy of a slice from a DataFrame.\n",
      "Try using .loc[row_indexer,col_indexer] = value instead\n",
      "\n",
      "See the caveats in the documentation: https://pandas.pydata.org/pandas-docs/stable/user_guide/indexing.html#returning-a-view-versus-a-copy\n",
      "  all_tracking_tackles_play_defense['height_diff'] = all_tracking_tackles_play_defense['height'] - all_tracking_tackles_play_defense['ball_carrier_height']\n"
     ]
    }
   ],
   "source": [
    "all_tracking_tackles_play_defense['weight_diff'] = all_tracking_tackles_play_defense['weight'] - all_tracking_tackles_play_defense['ball_carrier_weight']\n",
    "all_tracking_tackles_play_defense['height_diff'] = all_tracking_tackles_play_defense['height'] - all_tracking_tackles_play_defense['ball_carrier_height']"
   ]
  },
  {
   "cell_type": "code",
   "execution_count": 97,
   "metadata": {},
   "outputs": [
    {
     "data": {
      "text/plain": [
       "<Axes: >"
      ]
     },
     "execution_count": 97,
     "metadata": {},
     "output_type": "execute_result"
    },
    {
     "data": {
      "image/png": "[encoded data removed]",
      "text/plain": [
       "<Figure size 640x480 with 1 Axes>"
      ]
     },
     "metadata": {},
     "output_type": "display_data"
    }
   ],
   "source": [
    "all_tracking_tackles_play_defense['weight_diff'].hist()"
   ]
  },
  {
   "cell_type": "code",
   "execution_count": 98,
   "metadata": {},
   "outputs": [],
   "source": [
    "all_tracking_tackles_play_defense.to_csv(\"all_tracking_tackles_play_defense.csv\")"
   ]
  },
  {
   "cell_type": "code",
   "execution_count": 116,
   "metadata": {},
   "outputs": [],
   "source": [
    "all_tracking_tackles_play_defense = all_tracking_tackles_play_defense[['gameId', 'playId', 'frameId', 'nflId',\n",
    "       'x', 'y', 's', 'a', 'o', 'dir',\n",
    "       'ball_carrier_speed', 'ball_carrier_acceleration', 'ball_carrier_dir',\n",
    "       'ball_carrier_orientation', 'ball_carrier_height',\n",
    "       'ball_carrier_weight', 'distance_to_ball_carrier',\n",
    "       'tackle', 'assist', 'pff_missedTackle', 'event',\n",
    "       'position', 'defender_influence', 'blocker_influence', 'weight_diff',\n",
    "       'height_diff']]"
   ]
  },
  {
   "cell_type": "code",
   "execution_count": 117,
   "metadata": {},
   "outputs": [],
   "source": [
    "all_tracking_tackles_play_defense_tackles = all_tracking_tackles_play_defense[all_tracking_tackles_play_defense['tackle'] ==1]"
   ]
  },
  {
   "cell_type": "code",
   "execution_count": 118,
   "metadata": {},
   "outputs": [],
   "source": [
    "all_tracking_tackles_play_defense_missed_tackles = all_tracking_tackles_play_defense[all_tracking_tackles_play_defense['pff_missedTackle'] ==1]"
   ]
  },
  {
   "cell_type": "code",
   "execution_count": 119,
   "metadata": {},
   "outputs": [
    {
     "data": {
      "text/plain": [
       "Index(['gameId', 'playId', 'frameId', 'nflId', 'x', 'y', 's', 'a', 'o', 'dir',\n",
       "       'ball_carrier_speed', 'ball_carrier_acceleration', 'ball_carrier_dir',\n",
       "       'ball_carrier_orientation', 'ball_carrier_height',\n",
       "       'ball_carrier_weight', 'distance_to_ball_carrier', 'tackle', 'assist',\n",
       "       'pff_missedTackle', 'event', 'position', 'defender_influence',\n",
       "       'blocker_influence', 'weight_diff', 'height_diff'],\n",
       "      dtype='object')"
      ]
     },
     "execution_count": 119,
     "metadata": {},
     "output_type": "execute_result"
    }
   ],
   "source": [
    "all_tracking_tackles_play_defense_tackles.columns"
   ]
  }
 ],
 "metadata": {
  "kernelspec": {
   "display_name": ".venv",
   "language": "python",
   "name": "python3"
  },
  "language_info": {
   "codemirror_mode": {
    "name": "ipython",
    "version": 3
   },
   "file_extension": ".py",
   "mimetype": "text/x-python",
   "name": "python",
   "nbconvert_exporter": "python",
   "pygments_lexer": "ipython3",
   "version": "3.12.8"
  }
 },
 "nbformat": 4,
 "nbformat_minor": 2
}
